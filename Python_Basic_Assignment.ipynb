{
  "nbformat": 4,
  "nbformat_minor": 0,
  "metadata": {
    "colab": {
      "provenance": []
    },
    "kernelspec": {
      "name": "python3",
      "display_name": "Python 3"
    },
    "language_info": {
      "name": "python"
    }
  },
  "cells": [
    {
      "cell_type": "markdown",
      "source": [],
      "metadata": {
        "id": "7csQR-DJlhRv"
      }
    },
    {
      "cell_type": "markdown",
      "source": [
        "# This is Dummy file to to Understand the process of assignment submission."
      ],
      "metadata": {
        "id": "KLIQQNk9n6Vm"
      }
    },
    {
      "cell_type": "markdown",
      "source": [
        "what is difference between basic and advance python.\n",
        "  "
      ],
      "metadata": {
        "id": "FT7fbssXmYCe"
      }
    },
    {
      "cell_type": "code",
      "source": [
        "a=10\n",
        "b=20\n",
        "c=a+b\n",
        "print(c)"
      ],
      "metadata": {
        "colab": {
          "base_uri": "https://localhost:8080/"
        },
        "id": "pwGeyj8RnuU8",
        "outputId": "d5c38ad7-9e85-4a21-f4ab-f9c38aab9d6d"
      },
      "execution_count": 2,
      "outputs": [
        {
          "output_type": "stream",
          "name": "stdout",
          "text": [
            "30\n"
          ]
        }
      ]
    },
    {
      "cell_type": "code",
      "source": [],
      "metadata": {
        "id": "4XEDQRRlnyDi"
      },
      "execution_count": null,
      "outputs": []
    }
  ]
}